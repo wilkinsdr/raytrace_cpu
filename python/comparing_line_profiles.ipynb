{
 "cells": [
  {
   "cell_type": "code",
   "execution_count": null,
   "metadata": {},
   "outputs": [],
   "source": [
    "import numpy as np\n",
    "import astropy.io.fits as pyfits\n",
    "import matplotlib.pyplot as plt\n",
    "import matplotlib.colors as colors\n",
    "from scipy.stats import binned_statistic\n",
    "import os\n",
    "import line_from_image\n",
    "%matplotlib inline"
   ]
  },
  {
   "cell_type": "code",
   "execution_count": null,
   "metadata": {},
   "outputs": [],
   "source": [
    "def sort_nums(filename):\n",
    "    return int(filename.split('_')[-1].split('.')[0])"
   ]
  },
  {
   "cell_type": "code",
   "execution_count": null,
   "metadata": {},
   "outputs": [],
   "source": [
    "file=\"/Volumes/Simulations/warped_disk_20_30_30/warped_disk_20_30_30_70.fits\"\n",
    "with pyfits.open(file) as hdul:\n",
    "    # Print the header\n",
    "    #header = hdul[0].header\n",
    "    hdul.info()\n",
    "    print(header)"
   ]
  },
  {
   "cell_type": "code",
   "execution_count": null,
   "metadata": {},
   "outputs": [],
   "source": [
    "def get_line_profile(path):\n",
    "    directory_path = os.path.join(os.path.expanduser(\"~\"), path)\n",
    "    unsorted_files = [os.path.join(directory_path, name) for name in os.listdir(directory_path)]\n",
    "    filtered_files = [file for file in unsorted_files if not os.path.basename(file).startswith(\"._\")]\n",
    "    organized_files = sorted(filtered_files, key=sort_nums)\n",
    "    return line_from_image.get_lines(organized_files)"
   ]
  },
  {
   "cell_type": "code",
   "execution_count": null,
   "metadata": {},
   "outputs": [],
   "source": [
    "warped_10_15_0_energy, warped_10_15_0_lines = get_line_profile(\"/Volumes/Simulations/warped_disk_10_15\")\n",
    "warped_10_15_30_energy, warped_10_15_30_lines = get_line_profile(\"/Volumes/Simulations/warped_disk_10_15_30\")\n",
    "warped_10_15_60_energy, warped_10_15_60_lines = get_line_profile(\"/Volumes/Simulations/warped_disk_10_15_60\")\n",
    "warped_10_15_90_energy, warped_10_15_90_lines = get_line_profile(\"/Volumes/Simulations/warped_disk_10_15_90\")"
   ]
  },
  {
   "cell_type": "code",
   "execution_count": null,
   "metadata": {},
   "outputs": [],
   "source": [
    "warped_10_30_0_energy, warped_10_30_0_lines = get_line_profile(\"/Volumes/Simulations/warped_disk_10_30\")\n",
    "warped_10_30_30_energy, warped_10_30_30_lines = get_line_profile(\"/Volumes/Simulations/warped_disk_10_30_30\")\n",
    "warped_10_30_60_energy, warped_10_30_60_lines = get_line_profile(\"/Volumes/Simulations/warped_disk_10_30_60\")\n",
    "warped_10_30_90_energy, warped_10_30_90_lines = get_line_profile(\"/Volumes/Simulations/warped_disk_10_30_90\")"
   ]
  },
  {
   "cell_type": "code",
   "execution_count": null,
   "metadata": {},
   "outputs": [],
   "source": [
    "warped_10_45_0_energy, warped_10_45_0_lines = get_line_profile(\"/Volumes/Simulations/warped_disk_10_45\")\n",
    "warped_10_45_30_energy, warped_10_45_30_lines = get_line_profile(\"/Volumes/Simulations/warped_disk_10_45_30\")\n",
    "warped_10_45_60_energy, warped_10_45_60_lines = get_line_profile(\"/Volumes/Simulations/warped_disk_10_45_60\")\n",
    "warped_10_45_90_energy, warped_10_45_90_lines = get_line_profile(\"/Volumes/Simulations/warped_disk_10_45_90\")"
   ]
  },
  {
   "cell_type": "code",
   "execution_count": null,
   "metadata": {},
   "outputs": [],
   "source": [
    "warped_20_15_90_energy, warped_20_15_90_lines = get_line_profile(\"/Volumes/Simulations/warped_disk_20_15_90\")"
   ]
  },
  {
   "cell_type": "code",
   "execution_count": null,
   "metadata": {},
   "outputs": [],
   "source": [
    "warped_20_15_0_energy, warped_20_15_0_lines = get_line_profile(\"/Volumes/Simulations/warped_disk_20_15\")\n",
    "warped_20_15_30_energy, warped_20_15_30_lines = get_line_profile(\"/Volumes/Simulations/warped_disk_20_15_30\")\n",
    "warped_20_15_60_energy, warped_20_15_60_lines = get_line_profile(\"/Volumes/Simulations/warped_disk_20_15_60\")\n",
    "warped_20_15_90_energy, warped_20_15_90_lines = get_line_profile(\"/Volumes/Simulations/warped_disk_20_15_90\")"
   ]
  },
  {
   "cell_type": "code",
   "execution_count": null,
   "metadata": {},
   "outputs": [],
   "source": [
    "warped_20_30_30_energy, warped_20_30_30_lines = get_line_profile(\"/Volumes/Simulations/warped_disk_20_30_30\")"
   ]
  },
  {
   "cell_type": "code",
   "execution_count": null,
   "metadata": {},
   "outputs": [],
   "source": [
    "warped_20_30_0_energy, warped_20_30_0_lines = get_line_profile(\"/Volumes/Simulations/warped_disk_20_30\")\n",
    "warped_20_30_30_energy, warped_20_30_30_lines = get_line_profile(\"/Volumes/Simulations/warped_disk_20_30_30\")\n",
    "warped_20_30_60_energy, warped_20_30_60_lines = get_line_profile(\"/Volumes/Simulations/warped_disk_20_30_60\")\n",
    "warped_20_30_90_energy, warped_20_30_90_lines = get_line_profile(\"/Volumes/Simulations/warped_disk_20_30_90\")"
   ]
  },
  {
   "cell_type": "code",
   "execution_count": null,
   "metadata": {},
   "outputs": [],
   "source": [
    "warped_20_45_90_energy, warped_20_45_90_lines = get_line_profile(\"/Volumes/Simulations/warped_disk_20_45_90\")"
   ]
  },
  {
   "cell_type": "code",
   "execution_count": null,
   "metadata": {},
   "outputs": [],
   "source": [
    "warped_20_45_0_energy, warped_20_45_0_lines = get_line_profile(\"/Volumes/Simulations/warped_disk_20_45\")\n",
    "warped_20_45_30_energy, warped_20_45_30_lines = get_line_profile(\"/Volumes/Simulations/warped_disk_20_45_30\")\n",
    "warped_20_45_60_energy, warped_20_45_60_lines = get_line_profile(\"/Volumes/Simulations/warped_disk_20_45_60\")\n",
    "warped_20_45_90_energy, warped_20_45_90_lines = get_line_profile(\"/Volumes/Simulations/warped_disk_20_45_90\")"
   ]
  },
  {
   "cell_type": "code",
   "execution_count": null,
   "metadata": {},
   "outputs": [],
   "source": [
    "warped_20_45_0_energy, warped_20_45_0_lines = get_line_profile(\"/Volumes/Simulations/warped_disk_20_45\")\n",
    "warped_20_45_30_energy, warped_20_45_30_lines = get_line_profile(\"/Volumes/Simulations/warped_disk_20_45_30\")\n",
    "warped_20_45_60_energy, warped_20_45_60_lines = get_line_profile(\"/Volumes/Simulations/warped_disk_20_45_60\")\n",
    "warped_20_45_90_energy, warped_20_45_90_lines = get_line_profile(\"/Volumes/Simulations/warped_disk_20_45_90\")"
   ]
  },
  {
   "cell_type": "code",
   "execution_count": null,
   "metadata": {},
   "outputs": [],
   "source": [
    "warped_20_45_0_energy, warped_20_45_0_lines = get_line_profile(\"/Volumes/Simulations/warped_disk_20_45\")\n",
    "warped_20_45_30_energy, warped_20_45_30_lines = get_line_profile(\"/Volumes/Simulations/warped_disk_20_45_30\")\n",
    "warped_20_45_60_energy, warped_20_45_60_lines = get_line_profile(\"/Volumes/Simulations/warped_disk_20_45_60\")\n",
    "warped_20_45_90_energy, warped_20_45_90_lines = get_line_profile(\"/Volumes/Simulations/warped_disk_20_45_90\")"
   ]
  }
 ],
 "metadata": {
  "kernelspec": {
   "display_name": "Python 3",
   "language": "python",
   "name": "python3"
  },
  "language_info": {
   "codemirror_mode": {
    "name": "ipython",
    "version": 3
   },
   "file_extension": ".py",
   "mimetype": "text/x-python",
   "name": "python",
   "nbconvert_exporter": "python",
   "pygments_lexer": "ipython3",
   "version": "3.8.5"
  }
 },
 "nbformat": 4,
 "nbformat_minor": 4
}
