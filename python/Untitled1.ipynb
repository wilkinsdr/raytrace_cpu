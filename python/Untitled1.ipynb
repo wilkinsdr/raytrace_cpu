{
 "cells": [
  {
   "cell_type": "code",
   "execution_count": null,
   "metadata": {},
   "outputs": [],
   "source": [
    "import numpy as np\n",
    "import astropy.io.fits as pyfits\n",
    "import matplotlib.pyplot as plt\n",
    "import matplotlib.colors as colors\n",
    "from scipy.stats import binned_statistic\n",
    "import os\n",
    "import line_profile\n",
    "#import line_profile_2D_emis\n",
    "from scipy.interpolate import interp2d\n",
    "from scipy.interpolate import CloughTocher2DInterpolator\n",
    "import line_profile_2D_emissivity"
   ]
  },
  {
   "cell_type": "code",
   "execution_count": null,
   "metadata": {},
   "outputs": [],
   "source": [
    "emissivity_warped_5_10_15 = \"emissivity2d.dat\""
   ]
  },
  {
   "cell_type": "code",
   "execution_count": null,
   "metadata": {},
   "outputs": [],
   "source": [
    "def sort_nums(filename):\n",
    "    return int(filename.split('_')[-1].split('.')[0])"
   ]
  },
  {
   "cell_type": "code",
   "execution_count": null,
   "metadata": {},
   "outputs": [],
   "source": [
    "def get_line_with_emissivity(emissivity_path):\n",
    "    return line_profile_2D_emissivity.get_emissivity(emissivity_path)"
   ]
  },
  {
   "cell_type": "code",
   "execution_count": null,
   "metadata": {},
   "outputs": [],
   "source": [
    "r, p, e = get_line_with_emissivity(emissivity_warped_5_10_15)"
   ]
  },
  {
   "cell_type": "code",
   "execution_count": null,
   "metadata": {},
   "outputs": [],
   "source": [
    "e = e / np.sum(e[e > 0])\n",
    "emis_interp = CloughTocher2DInterpolator(list(zip(np.log10(r[e >0]), p[e >0])), np.log10(e[e >0])) "
   ]
  },
  {
   "cell_type": "code",
   "execution_count": null,
   "metadata": {},
   "outputs": [],
   "source": [
    "plt.loglog(r[p==0], e[p==0])\n",
    "ri = np.logspace(np.log10(1.235), np.log10(500), 100)\n",
    "plt.loglog(ri, 10**emis_interp(np.log10(ri), 0))\n",
    "plt.show()"
   ]
  }
 ],
 "metadata": {
  "kernelspec": {
   "display_name": "Python 3",
   "language": "python",
   "name": "python3"
  },
  "language_info": {
   "codemirror_mode": {
    "name": "ipython",
    "version": 3
   },
   "file_extension": ".py",
   "mimetype": "text/x-python",
   "name": "python",
   "nbconvert_exporter": "python",
   "pygments_lexer": "ipython3",
   "version": "3.8.5"
  }
 },
 "nbformat": 4,
 "nbformat_minor": 4
}
